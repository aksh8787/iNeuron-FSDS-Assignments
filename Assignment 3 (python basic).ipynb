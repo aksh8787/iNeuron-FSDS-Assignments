{
 "cells": [
  {
   "cell_type": "markdown",
   "id": "38292dc4",
   "metadata": {},
   "source": [
    "# 1)Why are functions advantageous to have in your programs?\n"
   ]
  },
  {
   "cell_type": "markdown",
   "id": "2e8d5887",
   "metadata": {},
   "source": [
    "Ans :   1) Reducing duplication of code.\n",
    "        2) function break downs a complex problems into simpler pieces.\n",
    "        3) Improving clarity of the code.\n",
    "        4) Reuse of code.\n",
    "        5) Information hiding\n",
    "        \n",
    "        "
   ]
  },
  {
   "cell_type": "markdown",
   "id": "7a2433c2",
   "metadata": {},
   "source": [
    "2)When does the code in a function run: when its specified or when its called?\n"
   ]
  },
  {
   "cell_type": "markdown",
   "id": "71a5bcda",
   "metadata": {},
   "source": [
    "Ans : The code in a function executes when the function is called, not when the function is specified.\n"
   ]
  },
  {
   "cell_type": "markdown",
   "id": "fe36b0f6",
   "metadata": {},
   "source": [
    "3)What statement creates a function?\n"
   ]
  },
  {
   "cell_type": "code",
   "execution_count": null,
   "id": "4c49a261",
   "metadata": {},
   "outputs": [],
   "source": [
    "Ans : The def statement creates a function\n",
    "      \n",
    "      def function_name(args):\n",
    "            return args\n",
    "        "
   ]
  },
  {
   "cell_type": "markdown",
   "id": "449a0c16",
   "metadata": {},
   "source": [
    "4)What is the difference between a function and a function call?\n"
   ]
  },
  {
   "cell_type": "markdown",
   "id": "6bdf3bab",
   "metadata": {},
   "source": [
    "Ans : A function is a block of code that does a particular operation and returns a result. \n",
    "while function call can defined as when we have to do any particular task then with the help of above function the function call comes in a picture.\n"
   ]
  },
  {
   "cell_type": "markdown",
   "id": "1649c9bf",
   "metadata": {},
   "source": [
    "5)How many global scopes are there in a Python program? How many local scopes?\n"
   ]
  },
  {
   "cell_type": "markdown",
   "id": "f5ea3386",
   "metadata": {},
   "source": [
    "Ans : There's only one global scope and local scope per python program execution whenever fuction is called.      \n"
   ]
  },
  {
   "cell_type": "markdown",
   "id": "4a70cc90",
   "metadata": {},
   "source": [
    "6)What happens to variables in a local scope when the function call returns?\n"
   ]
  },
  {
   "cell_type": "markdown",
   "id": "591a3798",
   "metadata": {},
   "source": [
    "Ans : When a function returns, the local scope is destroyed, and all the variables in it are forgotten.\n"
   ]
  },
  {
   "cell_type": "markdown",
   "id": "2b94ccbe",
   "metadata": {},
   "source": [
    "7)What is the concept of a return value? Is it possible to have a return value in an expression?\n"
   ]
  },
  {
   "cell_type": "markdown",
   "id": "a46f2c70",
   "metadata": {},
   "source": [
    "Ans : A return value is the value that a function call evaluates to. Like any value, a return value can be used as part of an expression.\n"
   ]
  },
  {
   "cell_type": "markdown",
   "id": "5b5f1933",
   "metadata": {},
   "source": [
    "8)If a function does not have a return statement, what is the return value of a call to that function?\n"
   ]
  },
  {
   "cell_type": "markdown",
   "id": "cc047407",
   "metadata": {},
   "source": [
    "Ans : If there is no return statement for a function,it does not give any result\n",
    "\n"
   ]
  },
  {
   "cell_type": "markdown",
   "id": "6a46f7ac",
   "metadata": {},
   "source": [
    "9)How do you make a function variable refer to the global variable?\n"
   ]
  },
  {
   "cell_type": "markdown",
   "id": "bff7a4d6",
   "metadata": {},
   "source": [
    "Ans : Global variable is a variable which is not connected to any particular function i.e it is free to be called in any function and also be reused.\n",
    "\n",
    "Therefore to refer a function variable to global variable we use global keyword to declare which variable are global.\n"
   ]
  },
  {
   "cell_type": "markdown",
   "id": "0882fdb9",
   "metadata": {},
   "source": [
    "10)what is the data type of none?\n",
    "\n",
    "Ans : The data type of none is None Type \n"
   ]
  },
  {
   "cell_type": "markdown",
   "id": "8c95e4fc",
   "metadata": {},
   "source": [
    "11)What does the sentence import areallyourpetsnamederic do?\n",
    "\n",
    "Ans : That import statement imports a module named areallyourpetsnamederic.\n"
   ]
  },
  {
   "cell_type": "markdown",
   "id": "e18e5474",
   "metadata": {},
   "source": [
    "12)If you had a bacon() feature in a spam module, what would you call it after importing spam?\n",
    "\n",
    "Ans : This function can be called with spam.bacon().\n"
   ]
  },
  {
   "cell_type": "markdown",
   "id": "26a27377",
   "metadata": {},
   "source": [
    "13)What can you do to save a programme from crashing if it encounters an error?\n",
    "\n",
    "Ans : We can use try function to save programme from preventing crash.\n"
   ]
  },
  {
   "cell_type": "markdown",
   "id": "4799a74d",
   "metadata": {},
   "source": [
    "14)What is the purpose of the try clause? What is the purpose of the except clause?\n",
    "\n",
    "Ans : The code that could potentially cause an error goes in the try clause. The code that executes if an error happens goes in the except clause.\n"
   ]
  },
  {
   "cell_type": "code",
   "execution_count": null,
   "id": "bd50723e",
   "metadata": {},
   "outputs": [],
   "source": []
  }
 ],
 "metadata": {
  "kernelspec": {
   "display_name": "Python 3 (ipykernel)",
   "language": "python",
   "name": "python3"
  },
  "language_info": {
   "codemirror_mode": {
    "name": "ipython",
    "version": 3
   },
   "file_extension": ".py",
   "mimetype": "text/x-python",
   "name": "python",
   "nbconvert_exporter": "python",
   "pygments_lexer": "ipython3",
   "version": "3.9.7"
  }
 },
 "nbformat": 4,
 "nbformat_minor": 5
}
