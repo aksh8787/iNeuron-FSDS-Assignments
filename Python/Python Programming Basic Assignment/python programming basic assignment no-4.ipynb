{
 "cells": [
  {
   "cell_type": "markdown",
   "id": "95c2e962",
   "metadata": {},
   "source": [
    "### 1. Write a Python Program to Find the Factorial of a Number?"
   ]
  },
  {
   "cell_type": "code",
   "execution_count": 6,
   "id": "c62688d4",
   "metadata": {},
   "outputs": [
    {
     "name": "stdout",
     "output_type": "stream",
     "text": [
      "enter the number 5\n",
      "factorial of 5 is 120\n"
     ]
    }
   ],
   "source": [
    "a=int(input('enter the number '))\n",
    "fact=1\n",
    "for i in range(1,a+1):\n",
    "    fact=fact*i\n",
    "print(f'factorial of {a} is {fact}')"
   ]
  },
  {
   "cell_type": "markdown",
   "id": "2d3c659f",
   "metadata": {},
   "source": [
    "### 2. Write a Python Program to Display the multiplication Table?"
   ]
  },
  {
   "cell_type": "code",
   "execution_count": 5,
   "id": "8d221bf2",
   "metadata": {},
   "outputs": [
    {
     "name": "stdout",
     "output_type": "stream",
     "text": [
      "which table u want to print 7\n",
      "7 x 1 = 7\n",
      "7 x 2 = 14\n",
      "7 x 3 = 21\n",
      "7 x 4 = 28\n",
      "7 x 5 = 35\n",
      "7 x 6 = 42\n",
      "7 x 7 = 49\n",
      "7 x 8 = 56\n",
      "7 x 9 = 63\n",
      "7 x 10 = 70\n"
     ]
    }
   ],
   "source": [
    "a=int(input('which table u want to print '))\n",
    "for i in range(1,11):\n",
    "    b=a*i\n",
    "    print(f'{a} x {i} = {b}')"
   ]
  },
  {
   "cell_type": "markdown",
   "id": "17215bf9",
   "metadata": {},
   "source": [
    "### 3. Write a Python Program to Print the Fibonacci sequence?"
   ]
  },
  {
   "cell_type": "code",
   "execution_count": 4,
   "id": "451ea760",
   "metadata": {},
   "outputs": [
    {
     "name": "stdout",
     "output_type": "stream",
     "text": [
      "upto which fibonacci series u want 10\n",
      "0\n",
      "1\n",
      "1\n",
      "2\n",
      "3\n",
      "5\n",
      "8\n",
      "13\n",
      "21\n",
      "34\n",
      "55\n"
     ]
    }
   ],
   "source": [
    "a=int(input('upto which fibonacci series u want '))\n",
    "n1=0\n",
    "n2=1\n",
    "print(n1)\n",
    "print(n2)\n",
    "for i in range(2,a+1):\n",
    "    n3=n1+n2\n",
    "    n1=n2\n",
    "    n2=n3\n",
    "    print(n3)"
   ]
  },
  {
   "cell_type": "markdown",
   "id": "8df86e4a",
   "metadata": {},
   "source": [
    "### 4. Write a Python Program to Check Armstrong Number?"
   ]
  },
  {
   "cell_type": "code",
   "execution_count": 3,
   "id": "f6fcf914",
   "metadata": {},
   "outputs": [
    {
     "name": "stdout",
     "output_type": "stream",
     "text": [
      "nenter the range u want to print armstrong numbers\n",
      "1001\n",
      "[1, 2, 3, 4, 5, 6, 7, 8, 9, 25, 36, 125, 153, 216, 370, 371, 407, 729]\n"
     ]
    }
   ],
   "source": [
    "s=int(input('nenter the range u want to print armstrong numbers\\n'))\n",
    "l=[]\n",
    "\n",
    "for i in range(s):\n",
    "    num=i\n",
    "    result=0\n",
    "    n=len(str(i))\n",
    "    while(i!=0):\n",
    "        digit=i%10\n",
    "        result=result+digit**n\n",
    "        i=i//10\n",
    "        if num==result:\n",
    "            l.append(num)\n",
    "print(l)"
   ]
  },
  {
   "cell_type": "markdown",
   "id": "a73d2401",
   "metadata": {},
   "source": [
    "### 5. Write a Python Program to Find Armstrong Number in an Interval?"
   ]
  },
  {
   "cell_type": "code",
   "execution_count": 2,
   "id": "d0097dc3",
   "metadata": {},
   "outputs": [
    {
     "name": "stdout",
     "output_type": "stream",
     "text": [
      "enter the range u want to print armstrong numbers156\n",
      "156 is not an armstrong number\n"
     ]
    }
   ],
   "source": [
    "s=int(input('enter the range u want to print armstrong numbers'))\n",
    "l=[]\n",
    "\n",
    "for i in range(s+1):\n",
    "    num=i\n",
    "    result=0\n",
    "    n=len(str(i))\n",
    "    while(i!=0):\n",
    "        digit=i%10\n",
    "        result=result+digit**n\n",
    "        i=i//10\n",
    "if num==result:\n",
    "    print(f'{num} is an armstrong number')\n",
    "else:\n",
    "    print(f'{num} is not an armstrong number')\n",
    "            \n",
    "        "
   ]
  },
  {
   "cell_type": "markdown",
   "id": "82eb7cca",
   "metadata": {},
   "source": [
    "### 6. Write a Python Program to Find the Sum of Natural Numbers?"
   ]
  },
  {
   "cell_type": "code",
   "execution_count": 1,
   "id": "017ec717",
   "metadata": {},
   "outputs": [
    {
     "name": "stdout",
     "output_type": "stream",
     "text": [
      "enter the number 10\n",
      "sum of given natural numbers is 55\n"
     ]
    }
   ],
   "source": [
    "a=int(input('enter the number '))\n",
    "add=0\n",
    "for i in range(1,a+1):\n",
    "    add=add+i\n",
    "print(f'sum of given natural numbers is {add}')"
   ]
  },
  {
   "cell_type": "code",
   "execution_count": null,
   "id": "e8bfcfe0",
   "metadata": {},
   "outputs": [],
   "source": []
  }
 ],
 "metadata": {
  "kernelspec": {
   "display_name": "Python 3 (ipykernel)",
   "language": "python",
   "name": "python3"
  },
  "language_info": {
   "codemirror_mode": {
    "name": "ipython",
    "version": 3
   },
   "file_extension": ".py",
   "mimetype": "text/x-python",
   "name": "python",
   "nbconvert_exporter": "python",
   "pygments_lexer": "ipython3",
   "version": "3.9.7"
  }
 },
 "nbformat": 4,
 "nbformat_minor": 5
}
