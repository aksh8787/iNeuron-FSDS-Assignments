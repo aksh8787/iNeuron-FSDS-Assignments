{
 "cells": [
  {
   "cell_type": "markdown",
   "id": "70dddcdb",
   "metadata": {},
   "source": [
    "1)Write a Python program to convert kilometers to miles?"
   ]
  },
  {
   "cell_type": "code",
   "execution_count": 33,
   "id": "3203c7ee",
   "metadata": {},
   "outputs": [
    {
     "name": "stdout",
     "output_type": "stream",
     "text": [
      "enter no. of kilometers : 15\n",
      "15.0 km is Equal to 9.315 miles\n"
     ]
    }
   ],
   "source": [
    "def Km_To_Miles():\n",
    "    kilometers=float(input(\"enter no. of kilometers : \"))\n",
    "    print(\"{} km is Equal to {} miles\".format(kilometers,kilometers*0.621))\n",
    "    \n",
    "Km_To_Miles()"
   ]
  },
  {
   "cell_type": "markdown",
   "id": "2da62376",
   "metadata": {},
   "source": [
    "2)Write a Python program to convert Celsius to Fahrenheit?"
   ]
  },
  {
   "cell_type": "code",
   "execution_count": 38,
   "id": "feefcb88",
   "metadata": {},
   "outputs": [
    {
     "name": "stdout",
     "output_type": "stream",
     "text": [
      "10° celcius is equal 50.0° to fahrenheit\n"
     ]
    }
   ],
   "source": [
    "def celcius_to_Fahrenheit(c):\n",
    "    fah=(c*9/5)+32\n",
    "    print(\"{}° celcius is equal {}° to fahrenheit\".format(c,fah))\n",
    "    \n",
    "celcius_to_Fahrenheit(10)"
   ]
  },
  {
   "cell_type": "markdown",
   "id": "8b3fabe5",
   "metadata": {},
   "source": [
    "3)Write a Python program to display calendar?"
   ]
  },
  {
   "cell_type": "code",
   "execution_count": 45,
   "id": "76988a0b",
   "metadata": {},
   "outputs": [
    {
     "name": "stdout",
     "output_type": "stream",
     "text": [
      "Enter Year 2022\n",
      "                                  2022\n",
      "\n",
      "      January                   February                   March\n",
      "Mo Tu We Th Fr Sa Su      Mo Tu We Th Fr Sa Su      Mo Tu We Th Fr Sa Su\n",
      "                1  2          1  2  3  4  5  6          1  2  3  4  5  6\n",
      " 3  4  5  6  7  8  9       7  8  9 10 11 12 13       7  8  9 10 11 12 13\n",
      "10 11 12 13 14 15 16      14 15 16 17 18 19 20      14 15 16 17 18 19 20\n",
      "17 18 19 20 21 22 23      21 22 23 24 25 26 27      21 22 23 24 25 26 27\n",
      "24 25 26 27 28 29 30      28                        28 29 30 31\n",
      "31\n",
      "\n",
      "       April                      May                       June\n",
      "Mo Tu We Th Fr Sa Su      Mo Tu We Th Fr Sa Su      Mo Tu We Th Fr Sa Su\n",
      "             1  2  3                         1             1  2  3  4  5\n",
      " 4  5  6  7  8  9 10       2  3  4  5  6  7  8       6  7  8  9 10 11 12\n",
      "11 12 13 14 15 16 17       9 10 11 12 13 14 15      13 14 15 16 17 18 19\n",
      "18 19 20 21 22 23 24      16 17 18 19 20 21 22      20 21 22 23 24 25 26\n",
      "25 26 27 28 29 30         23 24 25 26 27 28 29      27 28 29 30\n",
      "                          30 31\n",
      "\n",
      "        July                     August                  September\n",
      "Mo Tu We Th Fr Sa Su      Mo Tu We Th Fr Sa Su      Mo Tu We Th Fr Sa Su\n",
      "             1  2  3       1  2  3  4  5  6  7                1  2  3  4\n",
      " 4  5  6  7  8  9 10       8  9 10 11 12 13 14       5  6  7  8  9 10 11\n",
      "11 12 13 14 15 16 17      15 16 17 18 19 20 21      12 13 14 15 16 17 18\n",
      "18 19 20 21 22 23 24      22 23 24 25 26 27 28      19 20 21 22 23 24 25\n",
      "25 26 27 28 29 30 31      29 30 31                  26 27 28 29 30\n",
      "\n",
      "      October                   November                  December\n",
      "Mo Tu We Th Fr Sa Su      Mo Tu We Th Fr Sa Su      Mo Tu We Th Fr Sa Su\n",
      "                1  2          1  2  3  4  5  6                1  2  3  4\n",
      " 3  4  5  6  7  8  9       7  8  9 10 11 12 13       5  6  7  8  9 10 11\n",
      "10 11 12 13 14 15 16      14 15 16 17 18 19 20      12 13 14 15 16 17 18\n",
      "17 18 19 20 21 22 23      21 22 23 24 25 26 27      19 20 21 22 23 24 25\n",
      "24 25 26 27 28 29 30      28 29 30                  26 27 28 29 30 31\n",
      "31\n",
      "\n"
     ]
    }
   ],
   "source": [
    "import calendar\n",
    "def show_calendar():\n",
    "    year=int(input(\"Enter Year \"))\n",
    "    print(calendar.calendar(year))\n",
    "    \n",
    "show_calendar()"
   ]
  },
  {
   "cell_type": "markdown",
   "id": "1a3c6124",
   "metadata": {},
   "source": [
    "4)Write a Python program to solve quadratic equation?"
   ]
  },
  {
   "cell_type": "code",
   "execution_count": 5,
   "id": "96932d94",
   "metadata": {},
   "outputs": [
    {
     "name": "stdout",
     "output_type": "stream",
     "text": [
      "Enter num_1 1\n",
      "Enter num_2 2\n",
      "Enter num_3 1\n",
      "Quadratic equation is 1x^2 + 2x + 1\n",
      "Two possible Roots are -1.0 -1.0\n"
     ]
    }
   ],
   "source": [
    "#ax^2+bx+c=0\n",
    "\n",
    "def Quad_Eq():\n",
    "    a=int(input(\"Enter num_1 \"))\n",
    "    b=int(input(\"Enter num_2 \"))\n",
    "    c=int(input(\"Enter num_3 \"))\n",
    "    print(\"Quadratic equation is {}x^2 + {}x + {}\".format(a,b,c))\n",
    "    if a==0:\n",
    "        print(\"a should not be equal to zero\")\n",
    "    else:\n",
    "        u = b*b-4*a*c\n",
    "        x1 = ((-b)+u**0.5)/(2*a)\n",
    "        x2 = ((-b)-u**0.5)/(2*a)\n",
    "        print(\"Two possible Roots are {} {}\".format(x1,x2))\n",
    "        \n",
    "Quad_Eq()"
   ]
  },
  {
   "cell_type": "markdown",
   "id": "d00d811b",
   "metadata": {},
   "source": [
    "5)Write a Python program to swap two variables without temp variable?"
   ]
  },
  {
   "cell_type": "code",
   "execution_count": 11,
   "id": "d89a19ae",
   "metadata": {},
   "outputs": [
    {
     "name": "stdout",
     "output_type": "stream",
     "text": [
      "enter first no. 25\n",
      "enter second no. 50\n",
      "before swapping\n",
      "value of a = 25 and b = 50\n",
      "after swapping\n",
      "value of a = 50 and b = 25\n"
     ]
    }
   ],
   "source": [
    "def Swapping():\n",
    "    a=(input(\"enter first no. \"))\n",
    "    b=(input(\"enter second no. \"))\n",
    "    print(\"before swapping\")\n",
    "    print(\"value of a = {} and b = {}\".format(a,b))\n",
    "    # to swap variable ,the code is:\n",
    "    a,b=b,a\n",
    "    print(\"after swapping\")\n",
    "    print(\"value of a = {} and b = {}\".format(a,b))\n",
    "\n",
    "Swapping()"
   ]
  },
  {
   "cell_type": "code",
   "execution_count": null,
   "id": "a085c4d3",
   "metadata": {},
   "outputs": [],
   "source": []
  },
  {
   "cell_type": "code",
   "execution_count": null,
   "id": "038c1f2a",
   "metadata": {},
   "outputs": [],
   "source": []
  }
 ],
 "metadata": {
  "kernelspec": {
   "display_name": "Python 3 (ipykernel)",
   "language": "python",
   "name": "python3"
  },
  "language_info": {
   "codemirror_mode": {
    "name": "ipython",
    "version": 3
   },
   "file_extension": ".py",
   "mimetype": "text/x-python",
   "name": "python",
   "nbconvert_exporter": "python",
   "pygments_lexer": "ipython3",
   "version": "3.9.7"
  }
 },
 "nbformat": 4,
 "nbformat_minor": 5
}
