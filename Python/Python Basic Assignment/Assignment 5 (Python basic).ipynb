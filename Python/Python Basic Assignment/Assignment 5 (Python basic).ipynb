{
 "cells": [
  {
   "cell_type": "markdown",
   "id": "366f38f7",
   "metadata": {},
   "source": [
    "                            ##Assignment 5 Solutions:"
   ]
  },
  {
   "cell_type": "markdown",
   "id": "6df7d779",
   "metadata": {},
   "source": [
    "1)What does an empty dictionary's code look like?\n",
    "\n",
    "Ans : An empty dictionary is represented by two curly bracktes\n",
    "\n",
    "d={}"
   ]
  },
  {
   "cell_type": "markdown",
   "id": "b9e9d0c7",
   "metadata": {},
   "source": [
    "2)What is the value of a dictionary value with the key 'foo' and the value 42?\n",
    "\n",
    "Ans :"
   ]
  },
  {
   "cell_type": "code",
   "execution_count": 1,
   "id": "5352a38a",
   "metadata": {},
   "outputs": [],
   "source": [
    "d={\"foo\":42}"
   ]
  },
  {
   "cell_type": "markdown",
   "id": "478a0a27",
   "metadata": {},
   "source": [
    "3)What is the most significant distinction between a dictionary and a list?\n",
    "\n",
    "Ans:\n",
    "\n",
    "dictionary has a key value pair as one entity whereas there are individual elements in a list.\n",
    "\n",
    "and also, dictionary is a unordered collection where as list has orderd collection.\n",
    "\n",
    "concatenation of two dict. is not possible whereas it will possible in list."
   ]
  },
  {
   "cell_type": "markdown",
   "id": "9e7f8b72",
   "metadata": {},
   "source": [
    "4)What happens if you try to access spam['foo'] if spam is {'bar': 100}?\n",
    "\n",
    "Ans: we will get a Key Error."
   ]
  },
  {
   "cell_type": "code",
   "execution_count": 20,
   "id": "8847e1d3",
   "metadata": {},
   "outputs": [
    {
     "ename": "KeyError",
     "evalue": "'foo'",
     "output_type": "error",
     "traceback": [
      "\u001b[1;31m---------------------------------------------------------------------------\u001b[0m",
      "\u001b[1;31mKeyError\u001b[0m                                  Traceback (most recent call last)",
      "\u001b[1;32m~\\AppData\\Local\\Temp/ipykernel_4924/1717283131.py\u001b[0m in \u001b[0;36m<module>\u001b[1;34m\u001b[0m\n\u001b[0;32m      1\u001b[0m \u001b[0mspam\u001b[0m\u001b[1;33m=\u001b[0m\u001b[1;33m{\u001b[0m\u001b[1;34m'bar'\u001b[0m\u001b[1;33m:\u001b[0m\u001b[1;36m100\u001b[0m\u001b[1;33m}\u001b[0m\u001b[1;33m\u001b[0m\u001b[1;33m\u001b[0m\u001b[0m\n\u001b[1;32m----> 2\u001b[1;33m \u001b[0mspam\u001b[0m\u001b[1;33m[\u001b[0m\u001b[1;34m'foo'\u001b[0m\u001b[1;33m]\u001b[0m\u001b[1;33m\u001b[0m\u001b[1;33m\u001b[0m\u001b[0m\n\u001b[0m",
      "\u001b[1;31mKeyError\u001b[0m: 'foo'"
     ]
    }
   ],
   "source": [
    "spam={'bar':100}\n",
    "spam['foo']"
   ]
  },
  {
   "cell_type": "markdown",
   "id": "bec4cbae",
   "metadata": {},
   "source": [
    "5)If a dictionary is stored in spam, what is the difference between the expressions 'cat' in spam and'cat' in spam.keys()?\n",
    "\n",
    "Ans: There is no difference .\n",
    "\n",
    "It checks that whether the 'cat' as key is present in a dictionary or not , if present then it will gives a output as True otherwise False."
   ]
  },
  {
   "cell_type": "markdown",
   "id": "a6610e54",
   "metadata": {},
   "source": [
    "6)If a dictionary is stored in spam, what is the difference between the expressions 'cat' in spam and'cat' in spam.values()?\n",
    "\n",
    "Ans: cat' In spam checks whether there is a 'cat' key in the dictionary, while 'cat' in spam.values() checks whether there is a value 'cat' for one of the keys in spam."
   ]
  },
  {
   "cell_type": "markdown",
   "id": "f9e4ef54",
   "metadata": {},
   "source": [
    "7)What is a shortcut for the following code?\n",
    "\n",
    "if 'color' not in spam:\n",
    "\n",
    "spam['color'] = 'black'\n",
    "\n",
    "Ans:"
   ]
  },
  {
   "cell_type": "code",
   "execution_count": 21,
   "id": "9ea412c6",
   "metadata": {},
   "outputs": [
    {
     "data": {
      "text/plain": [
       "'black'"
      ]
     },
     "execution_count": 21,
     "metadata": {},
     "output_type": "execute_result"
    }
   ],
   "source": [
    "spam.setdefault('color' , 'black')"
   ]
  },
  {
   "cell_type": "markdown",
   "id": "6201ec32",
   "metadata": {},
   "source": [
    "8)How do you \"pretty print\" dictionary values using which module and function?\n",
    "\n",
    "Ans: we can pretty print a dictionary using three functions\n",
    "\n",
    "by using pprint() function of pprint module,\n",
    "But pprint() function doesnot prettify nested dictionaries\n",
    "\n",
    "by using dumps() method of json module\n",
    "\n",
    "by using dumps() method of yaml module"
   ]
  }
 ],
 "metadata": {
  "kernelspec": {
   "display_name": "Python 3 (ipykernel)",
   "language": "python",
   "name": "python3"
  },
  "language_info": {
   "codemirror_mode": {
    "name": "ipython",
    "version": 3
   },
   "file_extension": ".py",
   "mimetype": "text/x-python",
   "name": "python",
   "nbconvert_exporter": "python",
   "pygments_lexer": "ipython3",
   "version": "3.9.7"
  }
 },
 "nbformat": 4,
 "nbformat_minor": 5
}
