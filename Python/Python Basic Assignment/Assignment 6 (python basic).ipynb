{
 "cells": [
  {
   "cell_type": "markdown",
   "id": "e9afd525",
   "metadata": {},
   "source": [
    "1)What are escape characters, and how do you use them?\n",
    "\n",
    "Ans:"
   ]
  },
  {
   "cell_type": "markdown",
   "id": "c2637a24",
   "metadata": {},
   "source": [
    "Backslash \" \\ \" is a special character used to represent certain whitespace character like \\n, \\t, \\r"
   ]
  },
  {
   "cell_type": "code",
   "execution_count": 8,
   "id": "97293e55",
   "metadata": {},
   "outputs": [
    {
     "name": "stdout",
     "output_type": "stream",
     "text": [
      "hello\n",
      "world\n"
     ]
    }
   ],
   "source": [
    "#eg:\n",
    "a=\"hello\\nworld\"\n",
    "print(a)"
   ]
  },
  {
   "cell_type": "markdown",
   "id": "75db7516",
   "metadata": {},
   "source": [
    "2)What do the escape characters n and t stand for?\n",
    "\n",
    "Ans: n stands for new line and t stands for tab or we can say that space between characters."
   ]
  },
  {
   "cell_type": "markdown",
   "id": "61f5c18a",
   "metadata": {},
   "source": [
    "3)What is the way to include backslash characters in a string?\n",
    "\n",
    "Ans: To insert actual back slash we use \\\\"
   ]
  },
  {
   "cell_type": "markdown",
   "id": "cf6180ca",
   "metadata": {},
   "source": [
    "4)The string \"Howl's Moving Castle\" is a correct value. Why isn't the single quote character in the word Howl's not escaped a problem?\n",
    "\n",
    "Ans: The string \"Howl's Moving Castle\"escaped a problem because it was wrapped inside double quoats , if its wrapped inside single quoats then we have to use escape character \\'"
   ]
  },
  {
   "cell_type": "code",
   "execution_count": 20,
   "id": "6a980668",
   "metadata": {},
   "outputs": [
    {
     "data": {
      "text/plain": [
       "\"Howl's Moving Castle\""
      ]
     },
     "execution_count": 20,
     "metadata": {},
     "output_type": "execute_result"
    }
   ],
   "source": [
    "#eg\n",
    "'Howl\\'s Moving Castle'"
   ]
  },
  {
   "cell_type": "markdown",
   "id": "d80d7594",
   "metadata": {},
   "source": [
    "5)How do you write a string of newlines if you don't want to use the n character?\n",
    "\n",
    "Ans: multiline string allows you to use new line without using \\n escape character"
   ]
  },
  {
   "cell_type": "code",
   "execution_count": 40,
   "id": "a8b5f2bc",
   "metadata": {},
   "outputs": [
    {
     "name": "stdout",
     "output_type": "stream",
     "text": [
      "How are you!\n",
      "i am fine\n"
     ]
    }
   ],
   "source": [
    "#eg:\n",
    "a=\"\"\"How are you!\n",
    "i am fine\"\"\"\n",
    "print(a)"
   ]
  },
  {
   "cell_type": "markdown",
   "id": "721b0631",
   "metadata": {},
   "source": [
    "6)What are the values of the given expressions?\n",
    "\n",
    "Ans:"
   ]
  },
  {
   "cell_type": "code",
   "execution_count": 41,
   "id": "d1cb9861",
   "metadata": {},
   "outputs": [
    {
     "data": {
      "text/plain": [
       "'e'"
      ]
     },
     "execution_count": 41,
     "metadata": {},
     "output_type": "execute_result"
    }
   ],
   "source": [
    "\"Hello, world!\"[1]"
   ]
  },
  {
   "cell_type": "code",
   "execution_count": 42,
   "id": "000829fc",
   "metadata": {},
   "outputs": [
    {
     "data": {
      "text/plain": [
       "'Hello'"
      ]
     },
     "execution_count": 42,
     "metadata": {},
     "output_type": "execute_result"
    }
   ],
   "source": [
    "\"Hello, world!\"[0:5]"
   ]
  },
  {
   "cell_type": "code",
   "execution_count": 43,
   "id": "c7b27d24",
   "metadata": {},
   "outputs": [
    {
     "data": {
      "text/plain": [
       "'Hello'"
      ]
     },
     "execution_count": 43,
     "metadata": {},
     "output_type": "execute_result"
    }
   ],
   "source": [
    "\"Hello, world!\"[:5]"
   ]
  },
  {
   "cell_type": "code",
   "execution_count": 44,
   "id": "1789fc24",
   "metadata": {},
   "outputs": [
    {
     "data": {
      "text/plain": [
       "'lo, world!'"
      ]
     },
     "execution_count": 44,
     "metadata": {},
     "output_type": "execute_result"
    }
   ],
   "source": [
    "\"Hello, world!\"[3:]"
   ]
  },
  {
   "cell_type": "markdown",
   "id": "bf79aa1c",
   "metadata": {},
   "source": [
    "7)What are the values of the following expressions?\n",
    "\n",
    "Ans:"
   ]
  },
  {
   "cell_type": "code",
   "execution_count": 45,
   "id": "9eae44c8",
   "metadata": {},
   "outputs": [
    {
     "data": {
      "text/plain": [
       "'HELLO'"
      ]
     },
     "execution_count": 45,
     "metadata": {},
     "output_type": "execute_result"
    }
   ],
   "source": [
    "'hello'.upper()"
   ]
  },
  {
   "cell_type": "code",
   "execution_count": 46,
   "id": "d010e1a1",
   "metadata": {},
   "outputs": [
    {
     "data": {
      "text/plain": [
       "True"
      ]
     },
     "execution_count": 46,
     "metadata": {},
     "output_type": "execute_result"
    }
   ],
   "source": [
    "'hello'.upper().isupper()"
   ]
  },
  {
   "cell_type": "code",
   "execution_count": 48,
   "id": "a15c1c5b",
   "metadata": {},
   "outputs": [
    {
     "data": {
      "text/plain": [
       "False"
      ]
     },
     "execution_count": 48,
     "metadata": {},
     "output_type": "execute_result"
    }
   ],
   "source": [
    "'hello'.upper().islower()"
   ]
  },
  {
   "cell_type": "markdown",
   "id": "c28d8aca",
   "metadata": {},
   "source": [
    "8)What are the values of the following expressions?\n",
    "\n",
    "Ans:\n"
   ]
  },
  {
   "cell_type": "code",
   "execution_count": 49,
   "id": "325c4bc0",
   "metadata": {},
   "outputs": [
    {
     "data": {
      "text/plain": [
       "['Remember,', 'remember,', 'the', 'fifth', 'of', 'July.']"
      ]
     },
     "execution_count": 49,
     "metadata": {},
     "output_type": "execute_result"
    }
   ],
   "source": [
    "'Remember, remember, the fifth of July.'.split()"
   ]
  },
  {
   "cell_type": "code",
   "execution_count": 50,
   "id": "5a6a81f6",
   "metadata": {},
   "outputs": [
    {
     "data": {
      "text/plain": [
       "'There-can-only-one.'"
      ]
     },
     "execution_count": 50,
     "metadata": {},
     "output_type": "execute_result"
    }
   ],
   "source": [
    "'-'.join('There can only one.'.split())"
   ]
  },
  {
   "cell_type": "markdown",
   "id": "78ef5f7f",
   "metadata": {},
   "source": [
    "9)What are the methods for right-justifying, left-justifying, and centering a string?\n",
    "\n",
    "Ans:\n",
    "The rjust(),ljust(),center() string methods, respectively"
   ]
  },
  {
   "cell_type": "markdown",
   "id": "5082fc69",
   "metadata": {},
   "source": [
    "10)What is the best way to remove whitespace characters from the start or end?\n",
    "\n",
    "Ans:\n",
    " The lstrip() and rstrip() methods remove whitesapce characters from the left and right ends of a string respectively"
   ]
  }
 ],
 "metadata": {
  "kernelspec": {
   "display_name": "Python 3 (ipykernel)",
   "language": "python",
   "name": "python3"
  },
  "language_info": {
   "codemirror_mode": {
    "name": "ipython",
    "version": 3
   },
   "file_extension": ".py",
   "mimetype": "text/x-python",
   "name": "python",
   "nbconvert_exporter": "python",
   "pygments_lexer": "ipython3",
   "version": "3.9.7"
  }
 },
 "nbformat": 4,
 "nbformat_minor": 5
}
