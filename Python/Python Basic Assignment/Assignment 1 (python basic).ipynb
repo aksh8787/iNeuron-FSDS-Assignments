{
 "cells": [
  {
   "cell_type": "raw",
   "id": "9f529824",
   "metadata": {},
   "source": [
    "1. In the below elements which of them are values or an expression? eg:- values can be\n",
    "integer or string and expressions will be mathematical operators.\n",
    "*\n",
    "\"hello\"\n",
    "-87.8\n",
    "-\n",
    "/\n",
    "+\n",
    "6\n",
    "Ans:\n",
    "    values =  -87.8 , 6 , \"hello\".\n",
    "    \n",
    "    expressions = - , / , + , * .  \n"
   ]
  },
  {
   "cell_type": "raw",
   "id": "596bcccf",
   "metadata": {},
   "source": [
    "2. What is the difference between string and variable?\n",
    "\n",
    "Ans:\n",
    "    \n",
    "String = In Python, string is an immutable sequence data type. It is the sequence of Unicode characters wrapped inside single, double, or triple quotes.\n",
    "\n",
    "variable = it is a kind of entity to hold your dataset in a memory"
   ]
  },
  {
   "cell_type": "raw",
   "id": "4108e889",
   "metadata": {},
   "source": [
    "3. Describe three different data types.\n",
    " \n",
    "Ans:\n",
    "\n",
    "i) Numeric data type: \n",
    "Data having numeric values is known as Numeric data types.\n",
    "numeric value can be integer , complex no. , or float no.\n",
    " \n",
    "ii) Sequence data type:\n",
    "Sequence is ordered collection of similar or different data types. sequences allows us to store multiple values in organized and efficient way.\n",
    "Types of sequences in python are such as List , Tuple , or String etc.\n",
    "\n",
    "iii) Boolean data type:\n",
    "There can be only two types of value in the Boolean data type of Python, and that is True or False. \n"
   ]
  },
  {
   "cell_type": "raw",
   "id": "49b7da01",
   "metadata": {},
   "source": [
    "4. What is an expression made up of? What do all expressions do?\n",
    "\n",
    "Ans:\n",
    "\n",
    "An expression is a combination of operators and operands that is interpreted to produce some other value.\n",
    "\n",
    "a) Arithmetic Expression = An arithmetic expression is a combination of numeric values, operators, and sometimes parenthesis. The result of this type of expression is also a numeric value. The operators used in these expressions are arithmetic operators like addition, subtraction, multiplication ,Exponentiation etc. \n",
    "\n",
    "b) Integral Expressions = These are the kind of expressions that produce only integer results after all computations and type conversions.\n",
    "\n",
    "c)Floating Expressions = These are the kind of expressions which produce floating point numbers as result after all computations and type conversions.\n",
    "\n",
    "d) Logical Expressions = These are kinds of expressions that result in either True or False. It basically specifies one or more conditions.\n"
   ]
  },
  {
   "cell_type": "raw",
   "id": "398058b2",
   "metadata": {},
   "source": [
    "5. This assignment statements, like spam = 10. What is the difference between an\n",
    "expression and a statement?\n",
    "\n",
    "Ans:\n",
    "\n",
    "Expression = expressions always returns a value or we can say that anything that evaluates to something is known as expression.\n",
    "expression can print the result value.\n",
    "eg. 'aks'+ 'hay' , 8-5 etc.\n",
    "\n",
    "Statement = statment nevar return a value or we can say that anything that does the something is known as statment.\n",
    "statement does not print the result value.\n",
    "eg. loops , assignment statements , def , pass , continue , conditional statements etc."
   ]
  },
  {
   "cell_type": "raw",
   "id": "3e86832e",
   "metadata": {},
   "source": [
    "6. After running the following code, what does the variable bacon contain?\n",
    "bacon = 22\n",
    "bacon + 1\n",
    "\n",
    "Ans:"
   ]
  },
  {
   "cell_type": "code",
   "execution_count": 19,
   "id": "bd4c3581",
   "metadata": {},
   "outputs": [
    {
     "name": "stdout",
     "output_type": "stream",
     "text": [
      "bacon 23\n"
     ]
    }
   ],
   "source": [
    "bacon=22\n",
    "bacon+1\n",
    "print(\"bacon\" , bacon+1)"
   ]
  },
  {
   "cell_type": "raw",
   "id": "63b81f06",
   "metadata": {},
   "source": [
    "7. What should the values of the following two terms be?\n",
    "'spam'+'spamspam'\n",
    "'spam'*3\n",
    "\n",
    "Ans:"
   ]
  },
  {
   "cell_type": "code",
   "execution_count": 97,
   "id": "1795da80",
   "metadata": {},
   "outputs": [
    {
     "data": {
      "text/plain": [
       "'spamspamspam'"
      ]
     },
     "execution_count": 97,
     "metadata": {},
     "output_type": "execute_result"
    }
   ],
   "source": [
    "'spam'+'spamspam'\n",
    "\n"
   ]
  },
  {
   "cell_type": "code",
   "execution_count": 98,
   "id": "4c516623",
   "metadata": {},
   "outputs": [
    {
     "data": {
      "text/plain": [
       "'spamspamspam'"
      ]
     },
     "execution_count": 98,
     "metadata": {},
     "output_type": "execute_result"
    }
   ],
   "source": [
    "'spam'*3\n",
    "\n"
   ]
  },
  {
   "cell_type": "raw",
   "id": "e943c01a",
   "metadata": {},
   "source": [
    "8.Why is eggs a valid variable name while 100 is invalid?\n",
    "\n",
    "Ans: Because we cannot assign literals or cannot start with integer , but we can start like eggs100 which acts as a valid variable.\n"
   ]
  },
  {
   "cell_type": "raw",
   "id": "d20c381a",
   "metadata": {},
   "source": [
    "9. What three functions can be used to get the integer, floating-point number, or string\n",
    "version of a value?\n",
    "\n",
    "Ans:\n",
    "\n",
    "int() , float() , str()"
   ]
  },
  {
   "cell_type": "raw",
   "id": "a1140e8c",
   "metadata": {},
   "source": [
    "10. Why does this expression cause an error? How can you fix it?\n",
    "I have eaten + 99 + burritos.\n",
    "\n",
    "Ans:\n",
    "can only concatenate str (not \"int\") to str\n",
    "we can fix it by following way."
   ]
  },
  {
   "cell_type": "code",
   "execution_count": 36,
   "id": "1d5cd92e",
   "metadata": {},
   "outputs": [
    {
     "data": {
      "text/plain": [
       "'I have eaten99burritos.'"
      ]
     },
     "execution_count": 36,
     "metadata": {},
     "output_type": "execute_result"
    }
   ],
   "source": [
    "\"I have eaten\" + str(99) + \"burritos.\""
   ]
  }
 ],
 "metadata": {
  "kernelspec": {
   "display_name": "Python 3 (ipykernel)",
   "language": "python",
   "name": "python3"
  },
  "language_info": {
   "codemirror_mode": {
    "name": "ipython",
    "version": 3
   },
   "file_extension": ".py",
   "mimetype": "text/x-python",
   "name": "python",
   "nbconvert_exporter": "python",
   "pygments_lexer": "ipython3",
   "version": "3.9.7"
  }
 },
 "nbformat": 4,
 "nbformat_minor": 5
}
