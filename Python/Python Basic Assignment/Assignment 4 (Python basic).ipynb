{
 "cells": [
  {
   "cell_type": "markdown",
   "id": "682603ef",
   "metadata": {},
   "source": [
    "                        ##Assignment 4 Solutions:"
   ]
  },
  {
   "cell_type": "markdown",
   "id": "b22875d4",
   "metadata": {},
   "source": [
    "1)What exactly is []?"
   ]
  },
  {
   "cell_type": "markdown",
   "id": "1104df5d",
   "metadata": {},
   "source": [
    "Ans : [] represents the empty list or we can say that list containing no items."
   ]
  },
  {
   "cell_type": "markdown",
   "id": "c8fd46ea",
   "metadata": {},
   "source": [
    "2)In a list of values stored in a variable called spam, how would you assign the value 'hello' as the third value? (Assume [2, 4, 6, 8, 10] are in spam.)\n",
    "\n",
    "Ans :"
   ]
  },
  {
   "cell_type": "code",
   "execution_count": 10,
   "id": "144feb73",
   "metadata": {},
   "outputs": [
    {
     "name": "stdout",
     "output_type": "stream",
     "text": [
      "[2, 4, 'hello', 8, 10]\n"
     ]
    }
   ],
   "source": [
    "spam=[2,4,6,8,10]\n",
    "spam[2]=\"hello\"\n",
    "print(spam)"
   ]
  },
  {
   "cell_type": "markdown",
   "id": "92107d0d",
   "metadata": {},
   "source": [
    "Let's pretend the spam includes the list ['a','b','c','d'] for the next three queries."
   ]
  },
  {
   "cell_type": "markdown",
   "id": "c5307370",
   "metadata": {},
   "source": [
    "3)What is the value of spam[int(int('3' * 2) / 11)]?"
   ]
  },
  {
   "cell_type": "code",
   "execution_count": 16,
   "id": "97676b80",
   "metadata": {},
   "outputs": [],
   "source": [
    "spam=['a','b','c','d']"
   ]
  },
  {
   "cell_type": "code",
   "execution_count": 5,
   "id": "17924183",
   "metadata": {},
   "outputs": [
    {
     "data": {
      "text/plain": [
       "'d'"
      ]
     },
     "execution_count": 5,
     "metadata": {},
     "output_type": "execute_result"
    }
   ],
   "source": [
    "spam[int(int('3'*2)/11)]"
   ]
  },
  {
   "cell_type": "markdown",
   "id": "d8482139",
   "metadata": {},
   "source": [
    "4)What is the value of spam[-1]?"
   ]
  },
  {
   "cell_type": "code",
   "execution_count": 6,
   "id": "45e3cb7f",
   "metadata": {},
   "outputs": [
    {
     "data": {
      "text/plain": [
       "'d'"
      ]
     },
     "execution_count": 6,
     "metadata": {},
     "output_type": "execute_result"
    }
   ],
   "source": [
    "spam[-1]"
   ]
  },
  {
   "cell_type": "markdown",
   "id": "ca3aa6b4",
   "metadata": {},
   "source": [
    "5)What is the value of spam[:2]?"
   ]
  },
  {
   "cell_type": "code",
   "execution_count": 17,
   "id": "8f91f21d",
   "metadata": {},
   "outputs": [
    {
     "data": {
      "text/plain": [
       "['a', 'b']"
      ]
     },
     "execution_count": 17,
     "metadata": {},
     "output_type": "execute_result"
    }
   ],
   "source": [
    "spam[:2]"
   ]
  },
  {
   "cell_type": "markdown",
   "id": "3765f04c",
   "metadata": {},
   "source": [
    "Let's pretend bacon has the list [3.14,'cat',11,'cat',True] for the next three questions."
   ]
  },
  {
   "cell_type": "markdown",
   "id": "a38e4654",
   "metadata": {},
   "source": [
    "6)What is the value of bacon.index('cat')?\n",
    "\n",
    "Ans:"
   ]
  },
  {
   "cell_type": "code",
   "execution_count": 22,
   "id": "3d733ff9",
   "metadata": {},
   "outputs": [],
   "source": [
    "bacon=[3.14,'cat',11,'cat',True]"
   ]
  },
  {
   "cell_type": "code",
   "execution_count": 13,
   "id": "d899b3e7",
   "metadata": {},
   "outputs": [
    {
     "data": {
      "text/plain": [
       "1"
      ]
     },
     "execution_count": 13,
     "metadata": {},
     "output_type": "execute_result"
    }
   ],
   "source": [
    "bacon.index(\"cat\")"
   ]
  },
  {
   "cell_type": "markdown",
   "id": "24bcad68",
   "metadata": {},
   "source": [
    "7)How does bacon.append(99) change the look of the list value in bacon?\n",
    "\n",
    "Ans :"
   ]
  },
  {
   "cell_type": "code",
   "execution_count": 23,
   "id": "bc725c03",
   "metadata": {},
   "outputs": [],
   "source": [
    "bacon.append(99)"
   ]
  },
  {
   "cell_type": "code",
   "execution_count": 24,
   "id": "6c616224",
   "metadata": {},
   "outputs": [
    {
     "data": {
      "text/plain": [
       "[3.14, 'cat', 11, 'cat', True, 99]"
      ]
     },
     "execution_count": 24,
     "metadata": {},
     "output_type": "execute_result"
    }
   ],
   "source": [
    "bacon"
   ]
  },
  {
   "cell_type": "markdown",
   "id": "93db864f",
   "metadata": {},
   "source": [
    "8)How does bacon.remove('cat') change the look of the list in bacon?\n",
    "\n",
    "Ans :"
   ]
  },
  {
   "cell_type": "code",
   "execution_count": 25,
   "id": "29c3ac23",
   "metadata": {},
   "outputs": [],
   "source": [
    "bacon.remove('cat')"
   ]
  },
  {
   "cell_type": "code",
   "execution_count": 26,
   "id": "80a556ea",
   "metadata": {},
   "outputs": [
    {
     "data": {
      "text/plain": [
       "[3.14, 11, 'cat', True, 99]"
      ]
     },
     "execution_count": 26,
     "metadata": {},
     "output_type": "execute_result"
    }
   ],
   "source": [
    "bacon"
   ]
  },
  {
   "cell_type": "markdown",
   "id": "e44f76ee",
   "metadata": {},
   "source": [
    "9)What are the list concatenation and list replication operators?\n",
    "\n",
    "Ans :"
   ]
  },
  {
   "cell_type": "code",
   "execution_count": 27,
   "id": "a7f56ac1",
   "metadata": {},
   "outputs": [
    {
     "data": {
      "text/plain": [
       "[1, 2, 3, 4, 5, 6, 4, 5, 9, 7, 89, 2]"
      ]
     },
     "execution_count": 27,
     "metadata": {},
     "output_type": "execute_result"
    }
   ],
   "source": [
    "#concatenation:\n",
    "l1=[1,2,3,4,5,6]\n",
    "l2=[4,5,9,7,89,2]\n",
    "l1+l2"
   ]
  },
  {
   "cell_type": "code",
   "execution_count": 35,
   "id": "4f609f0a",
   "metadata": {},
   "outputs": [
    {
     "data": {
      "text/plain": [
       "[2, 4, 6, 8, 10, 8, 9, 2, 4, 6, 8, 10, 8, 9]"
      ]
     },
     "execution_count": 35,
     "metadata": {},
     "output_type": "execute_result"
    }
   ],
   "source": [
    "#replication:\n",
    "l1=[2,4,6,8,10,8,9]\n",
    "l2=l1*2\n",
    "l2"
   ]
  },
  {
   "cell_type": "markdown",
   "id": "0cda470e",
   "metadata": {},
   "source": [
    "10)What is difference between the list methods append() and insert()?\n",
    "\n",
    "Ans:"
   ]
  },
  {
   "cell_type": "code",
   "execution_count": 5,
   "id": "b5df83c4",
   "metadata": {},
   "outputs": [
    {
     "name": "stdout",
     "output_type": "stream",
     "text": [
      "[5, 6, 8, 7, 4, 'aksh']\n"
     ]
    }
   ],
   "source": [
    "l=[5,6,8,7,4]\n",
    "l.append(\"aksh\")\n",
    "print(l)"
   ]
  },
  {
   "cell_type": "code",
   "execution_count": 2,
   "id": "9dd1def5",
   "metadata": {},
   "outputs": [
    {
     "name": "stdout",
     "output_type": "stream",
     "text": [
      "[5, 6, 8, 8787, 7, 4, 'aksh']\n"
     ]
    }
   ],
   "source": [
    "l.insert(3,8787)\n",
    "print(l)"
   ]
  },
  {
   "cell_type": "markdown",
   "id": "bbbc812c",
   "metadata": {},
   "source": [
    "11)What are the two methods for removing items from a list?\n",
    "\n",
    "Ans :\n",
    "There are two methods to remove items from list:\n",
    "\n",
    "a) remove(element which want to be remove)\n",
    "\n",
    "b) pop() removes last item from the list if not mention any index\n",
    "if we mention any index inside pop it will remove element present at that index."
   ]
  },
  {
   "cell_type": "markdown",
   "id": "b767293c",
   "metadata": {},
   "source": [
    "12)Describe how list values and string values are identical.\n",
    "\n",
    "Ans:\n",
    "both list and string are ordered collection of elements except in list it can contain different data types"
   ]
  },
  {
   "cell_type": "markdown",
   "id": "e4db04d7",
   "metadata": {},
   "source": [
    "13)What's the difference between tuples and lists?\n",
    "\n",
    "Ans:\n",
    "list are mutable but tuples are immutable i.e we can add,delete,reassign elements in list which we cannot do in tuples."
   ]
  },
  {
   "cell_type": "markdown",
   "id": "7a1b1079",
   "metadata": {},
   "source": [
    "14)How do you type a tuple value that only contains the integer 42?\n",
    "\n",
    "Ans:The trailing comma is mandatory. otherwise its considered as a int by python Interpreter"
   ]
  },
  {
   "cell_type": "code",
   "execution_count": 9,
   "id": "36399b4a",
   "metadata": {},
   "outputs": [
    {
     "name": "stdout",
     "output_type": "stream",
     "text": [
      "<class 'int'>\n",
      "<class 'tuple'>\n"
     ]
    }
   ],
   "source": [
    "a=(42)\n",
    "b=(42,)\n",
    "print(type(a))\n",
    "print(type(b))"
   ]
  },
  {
   "cell_type": "markdown",
   "id": "27350429",
   "metadata": {},
   "source": [
    "15)How do you get a list values tuple form? How do you get a tuple values list form?\n",
    "\n",
    "Ans :"
   ]
  },
  {
   "cell_type": "code",
   "execution_count": 10,
   "id": "5548bf51",
   "metadata": {},
   "outputs": [
    {
     "data": {
      "text/plain": [
       "(1, 2, 3, 4)"
      ]
     },
     "execution_count": 10,
     "metadata": {},
     "output_type": "execute_result"
    }
   ],
   "source": [
    "tuple([1,2,3,4])"
   ]
  },
  {
   "cell_type": "code",
   "execution_count": 11,
   "id": "0bd2c5c4",
   "metadata": {},
   "outputs": [
    {
     "data": {
      "text/plain": [
       "[1, 2, 3, 4]"
      ]
     },
     "execution_count": 11,
     "metadata": {},
     "output_type": "execute_result"
    }
   ],
   "source": [
    "list((1,2,3,4))"
   ]
  },
  {
   "cell_type": "markdown",
   "id": "07ab7908",
   "metadata": {},
   "source": [
    "16)Variables that's contain's list values are not necessarily lists themselves. Instead, what do they contain?\n",
    "\n",
    "Ans :They only contain references to list values."
   ]
  },
  {
   "cell_type": "markdown",
   "id": "cd2f332b",
   "metadata": {},
   "source": [
    "17)How do you distinguish between copy.copy() and copy.deepcopy()?\n",
    "\n",
    "Ans:\n",
    "The copy.copy() function will do a shallow copy of a list, while the copy.deepcopy() function will do a deep copy of a list. That is, only copy.deepcopy() will duplicate any lists inside the list."
   ]
  }
 ],
 "metadata": {
  "kernelspec": {
   "display_name": "Python 3 (ipykernel)",
   "language": "python",
   "name": "python3"
  },
  "language_info": {
   "codemirror_mode": {
    "name": "ipython",
    "version": 3
   },
   "file_extension": ".py",
   "mimetype": "text/x-python",
   "name": "python",
   "nbconvert_exporter": "python",
   "pygments_lexer": "ipython3",
   "version": "3.9.7"
  }
 },
 "nbformat": 4,
 "nbformat_minor": 5
}
