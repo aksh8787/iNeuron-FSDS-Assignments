{
 "cells": [
  {
   "cell_type": "markdown",
   "id": "02c0134b",
   "metadata": {},
   "source": [
    "1)Write a Python program to print \"Hello Python\"?"
   ]
  },
  {
   "cell_type": "code",
   "execution_count": 12,
   "id": "27445ce8",
   "metadata": {},
   "outputs": [
    {
     "name": "stdout",
     "output_type": "stream",
     "text": [
      "Hello python\n"
     ]
    }
   ],
   "source": [
    "a=\"Hello python\"\n",
    "print(a)"
   ]
  },
  {
   "cell_type": "markdown",
   "id": "6541c5e9",
   "metadata": {},
   "source": [
    "2)Write a Python program to do arithmetical operations addition and division.?"
   ]
  },
  {
   "cell_type": "code",
   "execution_count": 8,
   "id": "eb5b244a",
   "metadata": {},
   "outputs": [
    {
     "name": "stdout",
     "output_type": "stream",
     "text": [
      "enter 1st no.1\n",
      "enter 2nd no2\n",
      "enter a operation/\n",
      "division is 0.5\n"
     ]
    }
   ],
   "source": [
    "a=int(input(\"enter 1st no.\"))\n",
    "b=int(input('enter 2nd no'))\n",
    "operation=input(\"enter a operation\")\n",
    "if operation == \"+\":\n",
    "    c=a+b\n",
    "    print('addition is ' , c)\n",
    "elif operation == \"/\":\n",
    "    c=a/b\n",
    "    print('division is' , c)\n",
    "else :\n",
    "    print(\"enter correct operation\")"
   ]
  },
  {
   "cell_type": "code",
   "execution_count": 2,
   "id": "55ee1b25",
   "metadata": {
    "scrolled": true
   },
   "outputs": [
    {
     "name": "stdout",
     "output_type": "stream",
     "text": [
      "enter 1st no. 100\n",
      "enter 2nd no. 50\n",
      "enter a operation +\n",
      "addition is  150\n"
     ]
    }
   ],
   "source": [
    "a=int(input(\"enter 1st no. \"))\n",
    "b=int(input('enter 2nd no. '))\n",
    "operation=input(\"enter a operation \")\n",
    "if operation == \"+\":\n",
    "    c=a+b\n",
    "    print('addition is ' , c)\n",
    "elif operation == \"/\":\n",
    "    c=a/b\n",
    "    print('division is' , c)\n",
    "else :\n",
    "    print(\"enter correct operation\")"
   ]
  },
  {
   "cell_type": "code",
   "execution_count": 10,
   "id": "7068ebf9",
   "metadata": {},
   "outputs": [
    {
     "name": "stdout",
     "output_type": "stream",
     "text": [
      "enter 1st no.12\n",
      "enter 2nd no21\n",
      "enter a operation-\n",
      "enter correct operation\n"
     ]
    }
   ],
   "source": [
    "a=int(input(\"enter 1st no.\"))\n",
    "b=int(input('enter 2nd no'))\n",
    "operation=input(\"enter a operation\")\n",
    "if operation == \"+\":\n",
    "    c=a+b\n",
    "    print('addition is ' , c)\n",
    "elif operation == \"/\":\n",
    "    c=a/b\n",
    "    print('division is' , c)\n",
    "else :\n",
    "    print(\"enter correct operation\")"
   ]
  },
  {
   "cell_type": "markdown",
   "id": "c2a67d73",
   "metadata": {},
   "source": [
    "3)Write a Python program to find the area of a triangle?"
   ]
  },
  {
   "cell_type": "code",
   "execution_count": 19,
   "id": "c2d270b2",
   "metadata": {},
   "outputs": [
    {
     "name": "stdout",
     "output_type": "stream",
     "text": [
      "enter a base of tringle 2.20\n",
      "eneter a height of tringle 2.20\n",
      "Area of tringle is  2.4200000000000004\n"
     ]
    }
   ],
   "source": [
    "a=float(input(\"enter a base of tringle \"))\n",
    "b=float(input(\"eneter a height of tringle \"))\n",
    "c=a*b/2\n",
    "print(\"Area of tringle is \" , c)"
   ]
  },
  {
   "cell_type": "markdown",
   "id": "816f8dbd",
   "metadata": {},
   "source": [
    "4)Write a Python program to swap two variables?"
   ]
  },
  {
   "cell_type": "code",
   "execution_count": 12,
   "id": "262001a9",
   "metadata": {},
   "outputs": [
    {
     "name": "stdout",
     "output_type": "stream",
     "text": [
      "enter first no. 2\n",
      "enter second no. 4\n",
      "before swapping\n",
      "value of a = 2 and b = 4\n",
      "after swapping\n",
      "value of a = 4 and b = 2\n"
     ]
    }
   ],
   "source": [
    "a=(input(\"enter first no. \"))\n",
    "b=(input(\"enter second no. \"))\n",
    "print(\"before swapping\")\n",
    "print(\"value of a =\",a,\"and b =\",b)\n",
    "# to swap variable ,the code is:\n",
    "a,b=b,a\n",
    "print(\"after swapping\")\n",
    "print(\"value of a =\",a,\"and b =\",b)\n"
   ]
  },
  {
   "cell_type": "raw",
   "id": "b9b2e1e8",
   "metadata": {},
   "source": [
    "5)Write a Python program to generate a random number?"
   ]
  },
  {
   "cell_type": "code",
   "execution_count": 53,
   "id": "ad964ec0",
   "metadata": {},
   "outputs": [
    {
     "name": "stdout",
     "output_type": "stream",
     "text": [
      "0.47247788198986806\n"
     ]
    }
   ],
   "source": [
    "import random\n",
    "s = random.random()\n",
    "print(s)"
   ]
  },
  {
   "cell_type": "code",
   "execution_count": 75,
   "id": "61ec204e",
   "metadata": {},
   "outputs": [
    {
     "name": "stdout",
     "output_type": "stream",
     "text": [
      "78\n"
     ]
    }
   ],
   "source": [
    "import random\n",
    "l=[1,2,3,4,8,5,7,5,58,69,78,5,8,5]\n",
    "a=random.choice(l)\n",
    "print(a)"
   ]
  },
  {
   "cell_type": "code",
   "execution_count": 73,
   "id": "4f96dde4",
   "metadata": {},
   "outputs": [
    {
     "name": "stdout",
     "output_type": "stream",
     "text": [
      "k\n"
     ]
    }
   ],
   "source": [
    "import random\n",
    "d=\"full stack data science\"\n",
    "b=random.choice(d)\n",
    "print(b)"
   ]
  }
 ],
 "metadata": {
  "kernelspec": {
   "display_name": "Python 3 (ipykernel)",
   "language": "python",
   "name": "python3"
  },
  "language_info": {
   "codemirror_mode": {
    "name": "ipython",
    "version": 3
   },
   "file_extension": ".py",
   "mimetype": "text/x-python",
   "name": "python",
   "nbconvert_exporter": "python",
   "pygments_lexer": "ipython3",
   "version": "3.9.7"
  }
 },
 "nbformat": 4,
 "nbformat_minor": 5
}
